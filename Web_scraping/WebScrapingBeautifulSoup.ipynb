{
 "cells": [
  {
   "cell_type": "markdown",
   "metadata": {},
   "source": [
    "# Video Cards Scrapping"
   ]
  },
  {
   "cell_type": "code",
   "execution_count": 1,
   "metadata": {},
   "outputs": [
    {
     "name": "stdout",
     "output_type": "stream",
     "text": [
      "12\n"
     ]
    }
   ],
   "source": [
    "from urllib.request import urlopen as uReq\n",
    "from bs4 import BeautifulSoup as soup\n",
    "\n",
    "myUrl = 'https://www.newegg.com/Video-Cards-Video-Devices/Category/ID-38?Tpk=graphics%20card'\n",
    "uClient = uReq(myUrl)\n",
    "page_html = uClient.read()\n",
    "uClient.close()\n",
    "page_soup = soup(page_html,\"html.parser\")\n",
    "\n",
    "containers  = page_soup.findAll(\"div\",{\"class\":\"item-container\"})\n",
    "print(len(containers))\n",
    "\n",
    "fileName = \"graphic_cards.csv\"\n",
    "f = open(fileName,\"w\")\n",
    "headers = \"brand, product_name, shipping\\n\"\n",
    "f.write(headers)\n",
    "    \n",
    "for container in containers:\n",
    "    brand = container.div.div.a.img[\"title\"]\n",
    "    productName = container.findAll(\"a\",{\"class\":\"item-title\"})[0].text\n",
    "    shipping = container.findAll(\"li\",{\"class\":\"price-ship\"})[0].text\n",
    "    \n",
    "    #print(\"brand :  \" + brand)\n",
    "    #print(\"productName : \" + productName)\n",
    "    #print(\"shipping : \" + shipping)\n",
    "    \n",
    "    f.write(brand + \",\" + productName.replace(\",\", \"|\") +  \",\" + shipping + \"\\n\")\n",
    "f.close()"
   ]
  },
  {
   "cell_type": "markdown",
   "metadata": {},
   "source": [
    "# Amazon Books Scrapping"
   ]
  },
  {
   "cell_type": "code",
   "execution_count": 2,
   "metadata": {},
   "outputs": [
    {
     "name": "stdout",
     "output_type": "stream",
     "text": [
      "16\n"
     ]
    }
   ],
   "source": [
    "from urllib.request import urlopen as uReq\n",
    "from bs4 import BeautifulSoup as soup\n",
    "\n",
    "myUrl = 'https://www.amazon.in/s?k=ai+machine+learning+for+coders&crid=3CCQHX19KG68W&sprefix=ai+machine+learning%2Caps%2C210&ref=nb_sb_ss_ts-doa-p_3_19'\n",
    "uClient = uReq(myUrl)\n",
    "page_html = uClient.read()\n",
    "uClient.close()\n",
    "page_soup = soup(page_html,\"html.parser\")\n",
    "\n",
    "Books  = page_soup.findAll('div', attrs={'class':'s-result-item s-asin sg-col-0-of-12 sg-col-16-of-20 sg-col s-widget-spacing-small sg-col-12-of-16'})\n",
    "print(len(Books))"
   ]
  },
  {
   "cell_type": "code",
   "execution_count": 3,
   "metadata": {},
   "outputs": [],
   "source": [
    "fileName = \"AmzonBooks.csv\"\n",
    "f = open(fileName, 'w')\n",
    "headers = \"Book_Name, Reviews_Numbers, Book_Price\\n\"\n",
    "f.write(headers)\n",
    "for Book in Books:\n",
    "    try:\n",
    "        bookName = Book.a.img[\"alt\"]\n",
    "        bookRating = Book.find('span', attrs={'class':'a-icon-alt'}).text\n",
    "        bookPrice = Book.find(\"span\", attrs={\"class\",\"a-offscreen\"}).text\n",
    "\n",
    "        # print(\"Book Name : \" + bookName)\n",
    "        # print(\"reviewsNumber : \" + bookRating)    \n",
    "        # print(\"Book Price : \" + bookPrice)    \n",
    "\n",
    "        f.write(bookName.replace(\",\", \" \") + \",\" + reviewsNumber.replace(\",\", \"\") + \",\" + bookPrice.replace(\",\", \".\") + \"\\n\")\n",
    "    except:\n",
    "        pass\n",
    "f.close()"
   ]
  }
 ],
 "metadata": {
  "kernelspec": {
   "display_name": "Python 3",
   "language": "python",
   "name": "python3"
  },
  "language_info": {
   "codemirror_mode": {
    "name": "ipython",
    "version": 3
   },
   "file_extension": ".py",
   "mimetype": "text/x-python",
   "name": "python",
   "nbconvert_exporter": "python",
   "pygments_lexer": "ipython3",
   "version": "3.8.8"
  }
 },
 "nbformat": 4,
 "nbformat_minor": 4
}
